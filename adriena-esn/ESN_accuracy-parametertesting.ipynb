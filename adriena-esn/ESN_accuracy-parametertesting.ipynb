{
 "cells": [
  {
   "cell_type": "code",
   "execution_count": 1,
   "metadata": {},
   "outputs": [],
   "source": [
    "import pandas as pd\n",
    "import numpy as np"
   ]
  },
  {
   "cell_type": "code",
   "execution_count": 2,
   "metadata": {},
   "outputs": [],
   "source": [
    "def myRound(x, r):\n",
    "    if x>r/float(1000):\n",
    "        return 1\n",
    "    else:\n",
    "        return 0"
   ]
  },
  {
   "cell_type": "code",
   "execution_count": 3,
   "metadata": {},
   "outputs": [],
   "source": [
    "def eqArray(a,b):\n",
    "    return np.where(a == b, 1, 0)"
   ]
  },
  {
   "cell_type": "code",
   "execution_count": 11,
   "metadata": {},
   "outputs": [
    {
     "name": "stdout",
     "output_type": "stream",
     "text": [
      "Accuracy for Friday-16-02-2018_1_15_5.csv is 0.9957084655761719 rounded at 0.353\n",
      "Accuracy for Friday-16-02-2018_1_15_10.csv is 0.9957313537597656 rounded at 0.415\n",
      "Friday-16-02-2018_1_15_15.csv not found\n",
      "Friday-16-02-2018_1_15_20.csv not found\n"
     ]
    }
   ],
   "source": [
    "for day in ['Thursday-15-02-2018', 'Friday-16-02-2018']:\n",
    "    for input_scaling in [0.1, 0.3, 0.5]:\n",
    "        for spectral_radius in [0.2, 0.6, 0.9]:\n",
    "            for leaking_rate in [0.2, 0.6, 0.9]:\n",
    "                filename = str(day)+'parameters_'+str(input_scaling)+'_'+str(spectral_radius)+'_'+str(leaking_rate)+'.csv'\n",
    "                try:\n",
    "                    df = pd.read_csv(filename)\n",
    "                except:\n",
    "                    print(filename + ' not found')\n",
    "                    continue\n",
    "                true_class = list(df['true_class'])\n",
    "                prev_a = 0\n",
    "                for rounder in range(100,500):\n",
    "                    predictions = list(df['pred_class'].apply(myRound, r=rounder))\n",
    "                    curr_a = np.sum(list(map(eqArray, predictions, true_class))) / len(true_class)\n",
    "                    if prev_a > curr_a:\n",
    "                        print(\"Accuracy for \" + filename + \" is \" + str(prev_a) + \" rounded at \" + str(rounder/float(1000)))\n",
    "                        break\n",
    "                    prev_a = curr_a"
   ]
  },
  {
   "cell_type": "code",
   "execution_count": null,
   "metadata": {},
   "outputs": [],
   "source": [
    "f1 = f1_score(true_class, predictions)\n",
    "auc = roc_auc_score(true_class, predictions)\n",
    "                "
   ]
  },
  {
   "cell_type": "code",
   "execution_count": 22,
   "metadata": {},
   "outputs": [],
   "source": [
    "df = pd.read_csv('Thursday-15-02-2018_0.5_10_5.csv')"
   ]
  },
  {
   "cell_type": "code",
   "execution_count": 59,
   "metadata": {},
   "outputs": [],
   "source": [
    "temp = df['pred_class'].apply(myRound, r=100)"
   ]
  },
  {
   "cell_type": "code",
   "execution_count": 25,
   "metadata": {},
   "outputs": [],
   "source": [
    "curr_a = np.sum(list(map(eqArray, predictions, true_class))) / len(true_class)"
   ]
  },
  {
   "cell_type": "code",
   "execution_count": 61,
   "metadata": {},
   "outputs": [
    {
     "data": {
      "text/plain": [
       "0.1"
      ]
     },
     "execution_count": 61,
     "metadata": {},
     "output_type": "execute_result"
    }
   ],
   "source": [
    "100/float(1000)"
   ]
  },
  {
   "cell_type": "code",
   "execution_count": 34,
   "metadata": {},
   "outputs": [
    {
     "data": {
      "text/plain": [
       "0     0\n",
       "1     0\n",
       "2     0\n",
       "3     0\n",
       "4     0\n",
       "     ..\n",
       "95    0\n",
       "96    0\n",
       "97    0\n",
       "98    0\n",
       "99    0\n",
       "Name: pred_class, Length: 100, dtype: int64"
      ]
     },
     "execution_count": 34,
     "metadata": {},
     "output_type": "execute_result"
    }
   ],
   "source": [
    "temp.head(100)"
   ]
  },
  {
   "cell_type": "code",
   "execution_count": null,
   "metadata": {},
   "outputs": [],
   "source": []
  }
 ],
 "metadata": {
  "kernelspec": {
   "display_name": "Python 3",
   "language": "python",
   "name": "python3"
  },
  "language_info": {
   "codemirror_mode": {
    "name": "ipython",
    "version": 3
   },
   "file_extension": ".py",
   "mimetype": "text/x-python",
   "name": "python",
   "nbconvert_exporter": "python",
   "pygments_lexer": "ipython3",
   "version": "3.7.3"
  }
 },
 "nbformat": 4,
 "nbformat_minor": 4
}
