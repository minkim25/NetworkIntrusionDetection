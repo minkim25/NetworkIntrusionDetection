{
 "cells": [
  {
   "cell_type": "code",
   "execution_count": 2,
   "metadata": {},
   "outputs": [],
   "source": [
    "import pandas as pd\n",
    "import numpy as np\n",
    "import matplotlib.pyplot as plt\n",
    "import sklearn\n",
    "from sklearn import preprocessing\n",
    "from sklearn.ensemble import ExtraTreesClassifier\n",
    "from sklearn.model_selection import train_test_split"
   ]
  },
  {
   "cell_type": "code",
   "execution_count": 101,
   "metadata": {},
   "outputs": [
    {
     "name": "stderr",
     "output_type": "stream",
     "text": [
      "/opt/anaconda3/lib/python3.7/site-packages/IPython/core/interactiveshell.py:3058: DtypeWarning: Columns (16,17) have mixed types. Specify dtype option on import or set low_memory=False.\n",
      "  interactivity=interactivity, compiler=compiler, result=result)\n"
     ]
    },
    {
     "data": {
      "text/html": [
       "<div>\n",
       "<style scoped>\n",
       "    .dataframe tbody tr th:only-of-type {\n",
       "        vertical-align: middle;\n",
       "    }\n",
       "\n",
       "    .dataframe tbody tr th {\n",
       "        vertical-align: top;\n",
       "    }\n",
       "\n",
       "    .dataframe thead th {\n",
       "        text-align: right;\n",
       "    }\n",
       "</style>\n",
       "<table border=\"1\" class=\"dataframe\">\n",
       "  <thead>\n",
       "    <tr style=\"text-align: right;\">\n",
       "      <th></th>\n",
       "      <th>Dst Port</th>\n",
       "      <th>Protocol</th>\n",
       "      <th>Timestamp</th>\n",
       "      <th>Flow Duration</th>\n",
       "      <th>Tot Fwd Pkts</th>\n",
       "      <th>Tot Bwd Pkts</th>\n",
       "      <th>TotLen Fwd Pkts</th>\n",
       "      <th>TotLen Bwd Pkts</th>\n",
       "      <th>Fwd Pkt Len Max</th>\n",
       "      <th>Fwd Pkt Len Min</th>\n",
       "      <th>...</th>\n",
       "      <th>Active Mean</th>\n",
       "      <th>Active Std</th>\n",
       "      <th>Active Max</th>\n",
       "      <th>Active Min</th>\n",
       "      <th>Idle Mean</th>\n",
       "      <th>Idle Std</th>\n",
       "      <th>Idle Max</th>\n",
       "      <th>Idle Min</th>\n",
       "      <th>Label</th>\n",
       "      <th>BiFlowsCount</th>\n",
       "    </tr>\n",
       "  </thead>\n",
       "  <tbody>\n",
       "    <tr>\n",
       "      <th>646748</th>\n",
       "      <td>80</td>\n",
       "      <td>6</td>\n",
       "      <td>15/02/2018 01:00:00</td>\n",
       "      <td>93</td>\n",
       "      <td>2</td>\n",
       "      <td>0</td>\n",
       "      <td>0</td>\n",
       "      <td>0</td>\n",
       "      <td>0</td>\n",
       "      <td>0</td>\n",
       "      <td>...</td>\n",
       "      <td>0.0</td>\n",
       "      <td>0.0</td>\n",
       "      <td>0</td>\n",
       "      <td>0</td>\n",
       "      <td>0.0</td>\n",
       "      <td>0.0</td>\n",
       "      <td>0</td>\n",
       "      <td>0</td>\n",
       "      <td>Benign</td>\n",
       "      <td>6</td>\n",
       "    </tr>\n",
       "    <tr>\n",
       "      <th>646747</th>\n",
       "      <td>80</td>\n",
       "      <td>6</td>\n",
       "      <td>15/02/2018 01:00:00</td>\n",
       "      <td>974</td>\n",
       "      <td>3</td>\n",
       "      <td>4</td>\n",
       "      <td>161</td>\n",
       "      <td>488</td>\n",
       "      <td>161</td>\n",
       "      <td>0</td>\n",
       "      <td>...</td>\n",
       "      <td>0.0</td>\n",
       "      <td>0.0</td>\n",
       "      <td>0</td>\n",
       "      <td>0</td>\n",
       "      <td>0.0</td>\n",
       "      <td>0.0</td>\n",
       "      <td>0</td>\n",
       "      <td>0</td>\n",
       "      <td>Benign</td>\n",
       "      <td>6</td>\n",
       "    </tr>\n",
       "    <tr>\n",
       "      <th>646746</th>\n",
       "      <td>445</td>\n",
       "      <td>6</td>\n",
       "      <td>15/02/2018 01:00:00</td>\n",
       "      <td>562585</td>\n",
       "      <td>6</td>\n",
       "      <td>5</td>\n",
       "      <td>455</td>\n",
       "      <td>338</td>\n",
       "      <td>140</td>\n",
       "      <td>0</td>\n",
       "      <td>...</td>\n",
       "      <td>0.0</td>\n",
       "      <td>0.0</td>\n",
       "      <td>0</td>\n",
       "      <td>0</td>\n",
       "      <td>0.0</td>\n",
       "      <td>0.0</td>\n",
       "      <td>0</td>\n",
       "      <td>0</td>\n",
       "      <td>Benign</td>\n",
       "      <td>6</td>\n",
       "    </tr>\n",
       "    <tr>\n",
       "      <th>646744</th>\n",
       "      <td>3389</td>\n",
       "      <td>6</td>\n",
       "      <td>15/02/2018 01:00:00</td>\n",
       "      <td>3686219</td>\n",
       "      <td>10</td>\n",
       "      <td>11</td>\n",
       "      <td>1272</td>\n",
       "      <td>1893</td>\n",
       "      <td>677</td>\n",
       "      <td>0</td>\n",
       "      <td>...</td>\n",
       "      <td>0.0</td>\n",
       "      <td>0.0</td>\n",
       "      <td>0</td>\n",
       "      <td>0</td>\n",
       "      <td>0.0</td>\n",
       "      <td>0.0</td>\n",
       "      <td>0</td>\n",
       "      <td>0</td>\n",
       "      <td>Benign</td>\n",
       "      <td>6</td>\n",
       "    </tr>\n",
       "    <tr>\n",
       "      <th>646745</th>\n",
       "      <td>3389</td>\n",
       "      <td>6</td>\n",
       "      <td>15/02/2018 01:00:00</td>\n",
       "      <td>2530981</td>\n",
       "      <td>8</td>\n",
       "      <td>7</td>\n",
       "      <td>1128</td>\n",
       "      <td>1581</td>\n",
       "      <td>661</td>\n",
       "      <td>0</td>\n",
       "      <td>...</td>\n",
       "      <td>0.0</td>\n",
       "      <td>0.0</td>\n",
       "      <td>0</td>\n",
       "      <td>0</td>\n",
       "      <td>0.0</td>\n",
       "      <td>0.0</td>\n",
       "      <td>0</td>\n",
       "      <td>0</td>\n",
       "      <td>Benign</td>\n",
       "      <td>6</td>\n",
       "    </tr>\n",
       "  </tbody>\n",
       "</table>\n",
       "<p>5 rows × 81 columns</p>\n",
       "</div>"
      ],
      "text/plain": [
       "        Dst Port  Protocol            Timestamp  Flow Duration  Tot Fwd Pkts  \\\n",
       "646748        80         6  15/02/2018 01:00:00             93             2   \n",
       "646747        80         6  15/02/2018 01:00:00            974             3   \n",
       "646746       445         6  15/02/2018 01:00:00         562585             6   \n",
       "646744      3389         6  15/02/2018 01:00:00        3686219            10   \n",
       "646745      3389         6  15/02/2018 01:00:00        2530981             8   \n",
       "\n",
       "        Tot Bwd Pkts  TotLen Fwd Pkts  TotLen Bwd Pkts  Fwd Pkt Len Max  \\\n",
       "646748             0                0                0                0   \n",
       "646747             4              161              488              161   \n",
       "646746             5              455              338              140   \n",
       "646744            11             1272             1893              677   \n",
       "646745             7             1128             1581              661   \n",
       "\n",
       "        Fwd Pkt Len Min  ...  Active Mean  Active Std  Active Max  Active Min  \\\n",
       "646748                0  ...          0.0         0.0           0           0   \n",
       "646747                0  ...          0.0         0.0           0           0   \n",
       "646746                0  ...          0.0         0.0           0           0   \n",
       "646744                0  ...          0.0         0.0           0           0   \n",
       "646745                0  ...          0.0         0.0           0           0   \n",
       "\n",
       "        Idle Mean  Idle Std Idle Max Idle Min   Label  BiFlowsCount  \n",
       "646748        0.0       0.0        0        0  Benign             6  \n",
       "646747        0.0       0.0        0        0  Benign             6  \n",
       "646746        0.0       0.0        0        0  Benign             6  \n",
       "646744        0.0       0.0        0        0  Benign             6  \n",
       "646745        0.0       0.0        0        0  Benign             6  \n",
       "\n",
       "[5 rows x 81 columns]"
      ]
     },
     "execution_count": 101,
     "metadata": {},
     "output_type": "execute_result"
    }
   ],
   "source": [
    "df1 = pd.read_csv('Datasets/Raw_Dataset/Thursday-15-02-2018_TrafficForML_CICFlowMeter.csv')\n",
    "df2 = df1.groupby(['Timestamp'])['Flow Duration'].count()\n",
    "df2 = pd.DataFrame(df2).reset_index()\n",
    "df2.columns=['Timestamp','BiFlowsCount']\n",
    "df = df1.merge(df2, left_on='Timestamp', right_on='Timestamp')\n",
    "df = df.sort_values('Timestamp')\n",
    "df.head()"
   ]
  },
  {
   "cell_type": "code",
   "execution_count": 24,
   "metadata": {},
   "outputs": [
    {
     "name": "stderr",
     "output_type": "stream",
     "text": [
      "C:\\Program Files (x86)\\Microsoft Visual Studio\\Shared\\Anaconda3_64\\lib\\site-packages\\IPython\\core\\interactiveshell.py:2785: DtypeWarning: Columns (0,1,3,4,5,6,7,8,9,10,11,12,13,14,15,16,18,19,20,21,22,23,24,25,26,27,28,29,30,31,32,33,34,35,36,37,38,39,40,41,42,43,44,45,46,47,48,49,50,51,52,53,54,55,56,57,58,59,60,61,62,63,64,65,66,67,68,69,70,71,72,73,74,75,76,77,78) have mixed types. Specify dtype option on import or set low_memory=False.\n",
      "  interactivity=interactivity, compiler=compiler, result=result)\n"
     ]
    },
    {
     "data": {
      "text/html": [
       "<div>\n",
       "<style scoped>\n",
       "    .dataframe tbody tr th:only-of-type {\n",
       "        vertical-align: middle;\n",
       "    }\n",
       "\n",
       "    .dataframe tbody tr th {\n",
       "        vertical-align: top;\n",
       "    }\n",
       "\n",
       "    .dataframe thead th {\n",
       "        text-align: right;\n",
       "    }\n",
       "</style>\n",
       "<table border=\"1\" class=\"dataframe\">\n",
       "  <thead>\n",
       "    <tr style=\"text-align: right;\">\n",
       "      <th></th>\n",
       "      <th>Dst Port</th>\n",
       "      <th>Protocol</th>\n",
       "      <th>Timestamp</th>\n",
       "      <th>Flow Duration</th>\n",
       "      <th>Tot Fwd Pkts</th>\n",
       "      <th>Tot Bwd Pkts</th>\n",
       "      <th>TotLen Fwd Pkts</th>\n",
       "      <th>TotLen Bwd Pkts</th>\n",
       "      <th>Fwd Pkt Len Max</th>\n",
       "      <th>Fwd Pkt Len Min</th>\n",
       "      <th>...</th>\n",
       "      <th>Fwd Seg Size Min</th>\n",
       "      <th>Active Mean</th>\n",
       "      <th>Active Std</th>\n",
       "      <th>Active Max</th>\n",
       "      <th>Active Min</th>\n",
       "      <th>Idle Mean</th>\n",
       "      <th>Idle Std</th>\n",
       "      <th>Idle Max</th>\n",
       "      <th>Idle Min</th>\n",
       "      <th>Label</th>\n",
       "    </tr>\n",
       "  </thead>\n",
       "  <tbody>\n",
       "    <tr>\n",
       "      <th>0</th>\n",
       "      <td>0</td>\n",
       "      <td>0</td>\n",
       "      <td>01/03/2018 08:17:11</td>\n",
       "      <td>115307855</td>\n",
       "      <td>5</td>\n",
       "      <td>0</td>\n",
       "      <td>0</td>\n",
       "      <td>0</td>\n",
       "      <td>0</td>\n",
       "      <td>0</td>\n",
       "      <td>...</td>\n",
       "      <td>0</td>\n",
       "      <td>1812348</td>\n",
       "      <td>0</td>\n",
       "      <td>1812348</td>\n",
       "      <td>1812348</td>\n",
       "      <td>56700000</td>\n",
       "      <td>6010057.622</td>\n",
       "      <td>61000000</td>\n",
       "      <td>52500000</td>\n",
       "      <td>Benign</td>\n",
       "    </tr>\n",
       "    <tr>\n",
       "      <th>1</th>\n",
       "      <td>0</td>\n",
       "      <td>0</td>\n",
       "      <td>01/03/2018 08:20:07</td>\n",
       "      <td>60997457</td>\n",
       "      <td>2</td>\n",
       "      <td>0</td>\n",
       "      <td>0</td>\n",
       "      <td>0</td>\n",
       "      <td>0</td>\n",
       "      <td>0</td>\n",
       "      <td>...</td>\n",
       "      <td>0</td>\n",
       "      <td>0</td>\n",
       "      <td>0</td>\n",
       "      <td>0</td>\n",
       "      <td>0</td>\n",
       "      <td>61000000</td>\n",
       "      <td>0</td>\n",
       "      <td>61000000</td>\n",
       "      <td>61000000</td>\n",
       "      <td>Benign</td>\n",
       "    </tr>\n",
       "    <tr>\n",
       "      <th>2</th>\n",
       "      <td>67</td>\n",
       "      <td>17</td>\n",
       "      <td>01/03/2018 08:17:18</td>\n",
       "      <td>61149019</td>\n",
       "      <td>5</td>\n",
       "      <td>0</td>\n",
       "      <td>1500</td>\n",
       "      <td>0</td>\n",
       "      <td>300</td>\n",
       "      <td>300</td>\n",
       "      <td>...</td>\n",
       "      <td>8</td>\n",
       "      <td>3530939</td>\n",
       "      <td>0</td>\n",
       "      <td>3530939</td>\n",
       "      <td>3530939</td>\n",
       "      <td>19200000</td>\n",
       "      <td>12500000</td>\n",
       "      <td>32600000</td>\n",
       "      <td>7999725</td>\n",
       "      <td>Benign</td>\n",
       "    </tr>\n",
       "    <tr>\n",
       "      <th>3</th>\n",
       "      <td>0</td>\n",
       "      <td>0</td>\n",
       "      <td>01/03/2018 08:22:09</td>\n",
       "      <td>60997555</td>\n",
       "      <td>2</td>\n",
       "      <td>0</td>\n",
       "      <td>0</td>\n",
       "      <td>0</td>\n",
       "      <td>0</td>\n",
       "      <td>0</td>\n",
       "      <td>...</td>\n",
       "      <td>0</td>\n",
       "      <td>0</td>\n",
       "      <td>0</td>\n",
       "      <td>0</td>\n",
       "      <td>0</td>\n",
       "      <td>61000000</td>\n",
       "      <td>0</td>\n",
       "      <td>61000000</td>\n",
       "      <td>61000000</td>\n",
       "      <td>Benign</td>\n",
       "    </tr>\n",
       "    <tr>\n",
       "      <th>4</th>\n",
       "      <td>0</td>\n",
       "      <td>0</td>\n",
       "      <td>01/03/2018 08:24:11</td>\n",
       "      <td>61997503</td>\n",
       "      <td>3</td>\n",
       "      <td>0</td>\n",
       "      <td>0</td>\n",
       "      <td>0</td>\n",
       "      <td>0</td>\n",
       "      <td>0</td>\n",
       "      <td>...</td>\n",
       "      <td>0</td>\n",
       "      <td>999909</td>\n",
       "      <td>0</td>\n",
       "      <td>999909</td>\n",
       "      <td>999909</td>\n",
       "      <td>61000000</td>\n",
       "      <td>0</td>\n",
       "      <td>61000000</td>\n",
       "      <td>61000000</td>\n",
       "      <td>Benign</td>\n",
       "    </tr>\n",
       "  </tbody>\n",
       "</table>\n",
       "<p>5 rows × 80 columns</p>\n",
       "</div>"
      ],
      "text/plain": [
       "  Dst Port Protocol            Timestamp Flow Duration Tot Fwd Pkts  \\\n",
       "0        0        0  01/03/2018 08:17:11     115307855            5   \n",
       "1        0        0  01/03/2018 08:20:07      60997457            2   \n",
       "2       67       17  01/03/2018 08:17:18      61149019            5   \n",
       "3        0        0  01/03/2018 08:22:09      60997555            2   \n",
       "4        0        0  01/03/2018 08:24:11      61997503            3   \n",
       "\n",
       "  Tot Bwd Pkts TotLen Fwd Pkts TotLen Bwd Pkts Fwd Pkt Len Max  \\\n",
       "0            0               0               0               0   \n",
       "1            0               0               0               0   \n",
       "2            0            1500               0             300   \n",
       "3            0               0               0               0   \n",
       "4            0               0               0               0   \n",
       "\n",
       "  Fwd Pkt Len Min   ...   Fwd Seg Size Min Active Mean Active Std Active Max  \\\n",
       "0               0   ...                  0     1812348          0    1812348   \n",
       "1               0   ...                  0           0          0          0   \n",
       "2             300   ...                  8     3530939          0    3530939   \n",
       "3               0   ...                  0           0          0          0   \n",
       "4               0   ...                  0      999909          0     999909   \n",
       "\n",
       "  Active Min Idle Mean     Idle Std  Idle Max  Idle Min   Label  \n",
       "0    1812348  56700000  6010057.622  61000000  52500000  Benign  \n",
       "1          0  61000000            0  61000000  61000000  Benign  \n",
       "2    3530939  19200000     12500000  32600000   7999725  Benign  \n",
       "3          0  61000000            0  61000000  61000000  Benign  \n",
       "4     999909  61000000            0  61000000  61000000  Benign  \n",
       "\n",
       "[5 rows x 80 columns]"
      ]
     },
     "execution_count": 24,
     "metadata": {},
     "output_type": "execute_result"
    }
   ],
   "source": [
    "df = pd.read_csv('Datasets/Raw_Dataset/Thursday-01-03-2018_TrafficForML_CICFlowMeter.csv')\n",
    "df.head()"
   ]
  },
  {
   "cell_type": "code",
   "execution_count": 38,
   "metadata": {},
   "outputs": [
    {
     "name": "stderr",
     "output_type": "stream",
     "text": [
      "C:\\Program Files (x86)\\Microsoft Visual Studio\\Shared\\Anaconda3_64\\lib\\site-packages\\IPython\\core\\interactiveshell.py:2785: DtypeWarning: Columns (0,1,3,4,5,6,7,8,9,10,11,12,13,14,15,16,18,19,20,21,22,23,24,25,26,27,28,29,30,31,32,33,34,35,36,37,38,39,40,41,42,43,44,45,46,47,48,49,50,51,52,53,54,55,56,57,58,59,60,61,62,63,64,65,66,67,68,69,70,71,72,73,74,75,76,77,78) have mixed types. Specify dtype option on import or set low_memory=False.\n",
      "  interactivity=interactivity, compiler=compiler, result=result)\n"
     ]
    },
    {
     "data": {
      "text/html": [
       "<div>\n",
       "<style scoped>\n",
       "    .dataframe tbody tr th:only-of-type {\n",
       "        vertical-align: middle;\n",
       "    }\n",
       "\n",
       "    .dataframe tbody tr th {\n",
       "        vertical-align: top;\n",
       "    }\n",
       "\n",
       "    .dataframe thead th {\n",
       "        text-align: right;\n",
       "    }\n",
       "</style>\n",
       "<table border=\"1\" class=\"dataframe\">\n",
       "  <thead>\n",
       "    <tr style=\"text-align: right;\">\n",
       "      <th></th>\n",
       "      <th>Dst Port</th>\n",
       "      <th>Protocol</th>\n",
       "      <th>Timestamp</th>\n",
       "      <th>Flow Duration</th>\n",
       "      <th>Tot Fwd Pkts</th>\n",
       "      <th>Tot Bwd Pkts</th>\n",
       "      <th>TotLen Fwd Pkts</th>\n",
       "      <th>TotLen Bwd Pkts</th>\n",
       "      <th>Fwd Pkt Len Max</th>\n",
       "      <th>Fwd Pkt Len Min</th>\n",
       "      <th>...</th>\n",
       "      <th>Fwd Seg Size Min</th>\n",
       "      <th>Active Mean</th>\n",
       "      <th>Active Std</th>\n",
       "      <th>Active Max</th>\n",
       "      <th>Active Min</th>\n",
       "      <th>Idle Mean</th>\n",
       "      <th>Idle Std</th>\n",
       "      <th>Idle Max</th>\n",
       "      <th>Idle Min</th>\n",
       "      <th>Label</th>\n",
       "    </tr>\n",
       "  </thead>\n",
       "  <tbody>\n",
       "    <tr>\n",
       "      <th>0</th>\n",
       "      <td>443</td>\n",
       "      <td>6</td>\n",
       "      <td>28/02/2018 08:22:13</td>\n",
       "      <td>94658</td>\n",
       "      <td>6</td>\n",
       "      <td>7</td>\n",
       "      <td>708</td>\n",
       "      <td>3718</td>\n",
       "      <td>387</td>\n",
       "      <td>0</td>\n",
       "      <td>...</td>\n",
       "      <td>20</td>\n",
       "      <td>0</td>\n",
       "      <td>0</td>\n",
       "      <td>0</td>\n",
       "      <td>0</td>\n",
       "      <td>0</td>\n",
       "      <td>0</td>\n",
       "      <td>0</td>\n",
       "      <td>0</td>\n",
       "      <td>Benign</td>\n",
       "    </tr>\n",
       "    <tr>\n",
       "      <th>1</th>\n",
       "      <td>443</td>\n",
       "      <td>6</td>\n",
       "      <td>28/02/2018 08:22:13</td>\n",
       "      <td>206</td>\n",
       "      <td>2</td>\n",
       "      <td>0</td>\n",
       "      <td>0</td>\n",
       "      <td>0</td>\n",
       "      <td>0</td>\n",
       "      <td>0</td>\n",
       "      <td>...</td>\n",
       "      <td>20</td>\n",
       "      <td>0</td>\n",
       "      <td>0</td>\n",
       "      <td>0</td>\n",
       "      <td>0</td>\n",
       "      <td>0</td>\n",
       "      <td>0</td>\n",
       "      <td>0</td>\n",
       "      <td>0</td>\n",
       "      <td>Benign</td>\n",
       "    </tr>\n",
       "    <tr>\n",
       "      <th>2</th>\n",
       "      <td>445</td>\n",
       "      <td>6</td>\n",
       "      <td>28/02/2018 08:22:15</td>\n",
       "      <td>165505</td>\n",
       "      <td>3</td>\n",
       "      <td>1</td>\n",
       "      <td>0</td>\n",
       "      <td>0</td>\n",
       "      <td>0</td>\n",
       "      <td>0</td>\n",
       "      <td>...</td>\n",
       "      <td>20</td>\n",
       "      <td>0</td>\n",
       "      <td>0</td>\n",
       "      <td>0</td>\n",
       "      <td>0</td>\n",
       "      <td>0</td>\n",
       "      <td>0</td>\n",
       "      <td>0</td>\n",
       "      <td>0</td>\n",
       "      <td>Benign</td>\n",
       "    </tr>\n",
       "    <tr>\n",
       "      <th>3</th>\n",
       "      <td>443</td>\n",
       "      <td>6</td>\n",
       "      <td>28/02/2018 08:22:16</td>\n",
       "      <td>102429</td>\n",
       "      <td>6</td>\n",
       "      <td>7</td>\n",
       "      <td>708</td>\n",
       "      <td>3718</td>\n",
       "      <td>387</td>\n",
       "      <td>0</td>\n",
       "      <td>...</td>\n",
       "      <td>20</td>\n",
       "      <td>0</td>\n",
       "      <td>0</td>\n",
       "      <td>0</td>\n",
       "      <td>0</td>\n",
       "      <td>0</td>\n",
       "      <td>0</td>\n",
       "      <td>0</td>\n",
       "      <td>0</td>\n",
       "      <td>Benign</td>\n",
       "    </tr>\n",
       "    <tr>\n",
       "      <th>4</th>\n",
       "      <td>443</td>\n",
       "      <td>6</td>\n",
       "      <td>28/02/2018 08:22:16</td>\n",
       "      <td>167</td>\n",
       "      <td>2</td>\n",
       "      <td>0</td>\n",
       "      <td>0</td>\n",
       "      <td>0</td>\n",
       "      <td>0</td>\n",
       "      <td>0</td>\n",
       "      <td>...</td>\n",
       "      <td>20</td>\n",
       "      <td>0</td>\n",
       "      <td>0</td>\n",
       "      <td>0</td>\n",
       "      <td>0</td>\n",
       "      <td>0</td>\n",
       "      <td>0</td>\n",
       "      <td>0</td>\n",
       "      <td>0</td>\n",
       "      <td>Benign</td>\n",
       "    </tr>\n",
       "  </tbody>\n",
       "</table>\n",
       "<p>5 rows × 80 columns</p>\n",
       "</div>"
      ],
      "text/plain": [
       "  Dst Port Protocol            Timestamp Flow Duration Tot Fwd Pkts  \\\n",
       "0      443        6  28/02/2018 08:22:13         94658            6   \n",
       "1      443        6  28/02/2018 08:22:13           206            2   \n",
       "2      445        6  28/02/2018 08:22:15        165505            3   \n",
       "3      443        6  28/02/2018 08:22:16        102429            6   \n",
       "4      443        6  28/02/2018 08:22:16           167            2   \n",
       "\n",
       "  Tot Bwd Pkts TotLen Fwd Pkts TotLen Bwd Pkts Fwd Pkt Len Max  \\\n",
       "0            7             708            3718             387   \n",
       "1            0               0               0               0   \n",
       "2            1               0               0               0   \n",
       "3            7             708            3718             387   \n",
       "4            0               0               0               0   \n",
       "\n",
       "  Fwd Pkt Len Min   ...   Fwd Seg Size Min Active Mean Active Std Active Max  \\\n",
       "0               0   ...                 20           0          0          0   \n",
       "1               0   ...                 20           0          0          0   \n",
       "2               0   ...                 20           0          0          0   \n",
       "3               0   ...                 20           0          0          0   \n",
       "4               0   ...                 20           0          0          0   \n",
       "\n",
       "  Active Min Idle Mean Idle Std Idle Max Idle Min   Label  \n",
       "0          0         0        0        0        0  Benign  \n",
       "1          0         0        0        0        0  Benign  \n",
       "2          0         0        0        0        0  Benign  \n",
       "3          0         0        0        0        0  Benign  \n",
       "4          0         0        0        0        0  Benign  \n",
       "\n",
       "[5 rows x 80 columns]"
      ]
     },
     "execution_count": 38,
     "metadata": {},
     "output_type": "execute_result"
    }
   ],
   "source": [
    "df = pd.read_csv('Datasets/Raw_Dataset/Wednesday-28-02-2018_TrafficForML_CICFlowMeter.csv')\n",
    "df.head()"
   ]
  },
  {
   "cell_type": "code",
   "execution_count": null,
   "metadata": {},
   "outputs": [],
   "source": []
  },
  {
   "cell_type": "code",
   "execution_count": null,
   "metadata": {},
   "outputs": [],
   "source": []
  },
  {
   "cell_type": "code",
   "execution_count": null,
   "metadata": {},
   "outputs": [],
   "source": []
  },
  {
   "cell_type": "code",
   "execution_count": null,
   "metadata": {},
   "outputs": [],
   "source": []
  },
  {
   "cell_type": "code",
   "execution_count": 102,
   "metadata": {},
   "outputs": [],
   "source": [
    "features = ['Timestamp', 'Flow Duration', 'Tot Fwd Pkts',\n",
    "       'Tot Bwd Pkts', 'TotLen Fwd Pkts', 'TotLen Bwd Pkts', 'Fwd Pkt Len Max',\n",
    "       'Fwd Pkt Len Min', 'Fwd Pkt Len Mean', 'Fwd Pkt Len Std',\n",
    "       'Bwd Pkt Len Max', 'Bwd Pkt Len Min', 'Bwd Pkt Len Mean',\n",
    "       'Bwd Pkt Len Std', 'Flow Byts/s', 'Flow Pkts/s', 'Flow IAT Mean',\n",
    "       'Flow IAT Std', 'Flow IAT Max', 'Flow IAT Min', 'Fwd IAT Tot',\n",
    "       'Fwd IAT Mean', 'Fwd IAT Std', 'Fwd IAT Max', 'Fwd IAT Min',\n",
    "       'Bwd IAT Tot', 'Bwd IAT Mean', 'Bwd IAT Std', 'Bwd IAT Max',\n",
    "       'Bwd IAT Min', 'Fwd PSH Flags', 'Bwd PSH Flags', 'Fwd URG Flags',\n",
    "       'Bwd URG Flags', 'Fwd Header Len', 'Bwd Header Len', 'Fwd Pkts/s',\n",
    "       'Bwd Pkts/s', 'Pkt Len Min', 'Pkt Len Max', 'Pkt Len Mean',\n",
    "       'Pkt Len Std', 'Pkt Len Var', 'FIN Flag Cnt', 'SYN Flag Cnt',\n",
    "       'RST Flag Cnt', 'PSH Flag Cnt', 'ACK Flag Cnt', 'URG Flag Cnt',\n",
    "       'CWE Flag Count', 'ECE Flag Cnt', 'Down/Up Ratio', 'Pkt Size Avg',\n",
    "       'Fwd Seg Size Avg', 'Bwd Seg Size Avg', 'Fwd Byts/b Avg',\n",
    "       'Fwd Pkts/b Avg', 'Fwd Blk Rate Avg', 'Bwd Byts/b Avg',\n",
    "       'Bwd Pkts/b Avg', 'Bwd Blk Rate Avg', 'Subflow Fwd Pkts',\n",
    "       'Subflow Fwd Byts', 'Subflow Bwd Pkts', 'Subflow Bwd Byts',\n",
    "       'Init Fwd Win Byts', 'Init Bwd Win Byts', 'Fwd Act Data Pkts',\n",
    "       'Fwd Seg Size Min', 'Active Mean', 'Active Std', 'Active Max',\n",
    "       'Active Min', 'Idle Mean', 'Idle Std', 'Idle Max', 'Idle Min', 'BiFlowsCount']"
   ]
  },
  {
   "cell_type": "code",
   "execution_count": 103,
   "metadata": {},
   "outputs": [
    {
     "name": "stderr",
     "output_type": "stream",
     "text": [
      "/opt/anaconda3/lib/python3.7/site-packages/pandas/core/frame.py:3509: SettingWithCopyWarning: \n",
      "A value is trying to be set on a copy of a slice from a DataFrame.\n",
      "Try using .loc[row_indexer,col_indexer] = value instead\n",
      "\n",
      "See the caveats in the documentation: http://pandas.pydata.org/pandas-docs/stable/user_guide/indexing.html#returning-a-view-versus-a-copy\n",
      "  self[k1] = value[k2]\n"
     ]
    }
   ],
   "source": [
    "X = df[features]\n",
    "X[features] = X[features].apply(pd.to_numeric, errors='coerce', axis=1)"
   ]
  },
  {
   "cell_type": "code",
   "execution_count": 104,
   "metadata": {},
   "outputs": [],
   "source": [
    "def targetify(s):\n",
    "    if s == 'Benign':\n",
    "        return 0\n",
    "    else:\n",
    "        return 1"
   ]
  },
  {
   "cell_type": "code",
   "execution_count": 105,
   "metadata": {},
   "outputs": [],
   "source": [
    "df['Target']=df['Label'].apply(targetify)"
   ]
  },
  {
   "cell_type": "code",
   "execution_count": 106,
   "metadata": {},
   "outputs": [],
   "source": [
    "y = df['Target']"
   ]
  },
  {
   "cell_type": "code",
   "execution_count": 107,
   "metadata": {},
   "outputs": [],
   "source": [
    "X = X.fillna(0)"
   ]
  },
  {
   "cell_type": "code",
   "execution_count": 108,
   "metadata": {},
   "outputs": [
    {
     "name": "stdout",
     "output_type": "stream",
     "text": [
      "(838860, 78) (838860,)\n",
      "(209715, 78) (209715,)\n"
     ]
    }
   ],
   "source": [
    "X_train, X_test, y_train, y_test = train_test_split(X, y, test_size=0.2)\n",
    "print (X_train.shape, y_train.shape)\n",
    "print( X_test.shape, y_test.shape)"
   ]
  },
  {
   "cell_type": "code",
   "execution_count": 109,
   "metadata": {},
   "outputs": [],
   "source": [
    "# sampling got different result. I'll use the raw data instead\n",
    "\n",
    "# X_train2 = X_train.sample(frac=0.1, replace=True, random_state=1)\n",
    "# y_train2 = y_train.sample(frac=0.1, replace=True, random_state=1)\n",
    "# X_test2 = X_test.sample(frac=0.1, replace=True, random_state=1)\n",
    "# y_test2 = y_test.sample(frac=0.1, replace=True, random_state=1)\n",
    "# print (X_train2.shape, y_train2.shape)\n",
    "# print( X_test2.shape, y_test2.shape)"
   ]
  },
  {
   "cell_type": "code",
   "execution_count": 110,
   "metadata": {},
   "outputs": [],
   "source": [
    "# I'm not even normalizing the data\n",
    "\n",
    "# min_max_scaler = preprocessing.MinMaxScaler()\n",
    "# x_scaled_train = min_max_scaler.fit_transform(X_train.values)"
   ]
  },
  {
   "cell_type": "code",
   "execution_count": 111,
   "metadata": {},
   "outputs": [],
   "source": [
    "forest = ExtraTreesClassifier(n_estimators=200, random_state=0)"
   ]
  },
  {
   "cell_type": "code",
   "execution_count": 112,
   "metadata": {},
   "outputs": [
    {
     "data": {
      "text/plain": [
       "ExtraTreesClassifier(bootstrap=False, class_weight=None, criterion='gini',\n",
       "                     max_depth=None, max_features='auto', max_leaf_nodes=None,\n",
       "                     min_impurity_decrease=0.0, min_impurity_split=None,\n",
       "                     min_samples_leaf=1, min_samples_split=2,\n",
       "                     min_weight_fraction_leaf=0.0, n_estimators=200,\n",
       "                     n_jobs=None, oob_score=False, random_state=0, verbose=0,\n",
       "                     warm_start=False)"
      ]
     },
     "execution_count": 112,
     "metadata": {},
     "output_type": "execute_result"
    }
   ],
   "source": [
    "forest.fit(X_train, y_train)"
   ]
  },
  {
   "cell_type": "code",
   "execution_count": 113,
   "metadata": {},
   "outputs": [],
   "source": [
    "importances = forest.feature_importances_"
   ]
  },
  {
   "cell_type": "code",
   "execution_count": 114,
   "metadata": {},
   "outputs": [],
   "source": [
    "std = np.std([tree.feature_importances_ for tree in forest.estimators_], axis=0)\n",
    "indices = np.argsort(importances)[::-1]"
   ]
  },
  {
   "cell_type": "code",
   "execution_count": 115,
   "metadata": {},
   "outputs": [
    {
     "name": "stdout",
     "output_type": "stream",
     "text": [
      "Feature ranking:\n",
      "1. feature 68: Fwd Seg Size Min (0.233805)\n",
      "2. feature 65: Init Fwd Win Byts (0.098576)\n",
      "3. feature 77: BiFlowsCount (0.075053)\n",
      "4. feature 10: Bwd Pkt Len Max (0.028162)\n",
      "5. feature 21: Fwd IAT Mean (0.027744)\n",
      "6. feature 39: Pkt Len Max (0.023559)\n",
      "7. feature 26: Bwd IAT Mean (0.022693)\n",
      "8. feature 23: Fwd IAT Max (0.021849)\n",
      "9. feature 24: Fwd IAT Min (0.021385)\n",
      "10. feature 20: Fwd IAT Tot (0.019965)\n",
      "11. feature 47: ACK Flag Cnt (0.019701)\n",
      "12. feature 28: Bwd IAT Max (0.018476)\n",
      "13. feature 1: Flow Duration (0.017440)\n",
      "14. feature 19: Flow IAT Min (0.017331)\n",
      "15. feature 18: Flow IAT Max (0.015971)\n",
      "16. feature 76: Idle Min (0.015757)\n",
      "17. feature 17: Flow IAT Std (0.015435)\n",
      "18. feature 16: Flow IAT Mean (0.015206)\n",
      "19. feature 29: Bwd IAT Min (0.013851)\n",
      "20. feature 13: Bwd Pkt Len Std (0.013671)\n",
      "21. feature 25: Bwd IAT Tot (0.013532)\n",
      "22. feature 34: Fwd Header Len (0.013222)\n",
      "23. feature 46: PSH Flag Cnt (0.012994)\n",
      "24. feature 75: Idle Max (0.012760)\n",
      "25. feature 66: Init Bwd Win Byts (0.012544)\n",
      "26. feature 41: Pkt Len Std (0.011975)\n",
      "27. feature 73: Idle Mean (0.011932)\n",
      "28. feature 27: Bwd IAT Std (0.011462)\n",
      "29. feature 12: Bwd Pkt Len Mean (0.011455)\n",
      "30. feature 42: Pkt Len Var (0.009845)\n",
      "31. feature 36: Fwd Pkts/s (0.009051)\n",
      "32. feature 54: Bwd Seg Size Avg (0.008881)\n",
      "33. feature 15: Flow Pkts/s (0.008496)\n",
      "34. feature 2: Tot Fwd Pkts (0.007604)\n",
      "35. feature 22: Fwd IAT Std (0.006562)\n",
      "36. feature 9: Fwd Pkt Len Std (0.005950)\n",
      "37. feature 40: Pkt Len Mean (0.005623)\n",
      "38. feature 67: Fwd Act Data Pkts (0.005397)\n",
      "39. feature 61: Subflow Fwd Pkts (0.005303)\n",
      "40. feature 52: Pkt Size Avg (0.005085)\n",
      "41. feature 8: Fwd Pkt Len Mean (0.005014)\n",
      "42. feature 53: Fwd Seg Size Avg (0.004492)\n",
      "43. feature 35: Bwd Header Len (0.004308)\n",
      "44. feature 37: Bwd Pkts/s (0.004209)\n",
      "45. feature 71: Active Max (0.004073)\n",
      "46. feature 74: Idle Std (0.003984)\n",
      "47. feature 63: Subflow Bwd Pkts (0.003922)\n",
      "48. feature 6: Fwd Pkt Len Max (0.003482)\n",
      "49. feature 51: Down/Up Ratio (0.003134)\n",
      "50. feature 72: Active Min (0.003086)\n",
      "51. feature 3: Tot Bwd Pkts (0.002911)\n",
      "52. feature 44: SYN Flag Cnt (0.002903)\n",
      "53. feature 69: Active Mean (0.002846)\n",
      "54. feature 30: Fwd PSH Flags (0.002845)\n",
      "55. feature 62: Subflow Fwd Byts (0.002829)\n",
      "56. feature 45: RST Flag Cnt (0.002487)\n",
      "57. feature 4: TotLen Fwd Pkts (0.002276)\n",
      "58. feature 50: ECE Flag Cnt (0.002246)\n",
      "59. feature 64: Subflow Bwd Byts (0.002081)\n",
      "60. feature 48: URG Flag Cnt (0.001956)\n",
      "61. feature 14: Flow Byts/s (0.001946)\n",
      "62. feature 7: Fwd Pkt Len Min (0.001802)\n",
      "63. feature 5: TotLen Bwd Pkts (0.001700)\n",
      "64. feature 70: Active Std (0.001579)\n",
      "65. feature 38: Pkt Len Min (0.001514)\n",
      "66. feature 11: Bwd Pkt Len Min (0.000927)\n",
      "67. feature 43: FIN Flag Cnt (0.000144)\n",
      "68. feature 31: Bwd PSH Flags (0.000000)\n",
      "69. feature 32: Fwd URG Flags (0.000000)\n",
      "70. feature 33: Bwd URG Flags (0.000000)\n",
      "71. feature 49: CWE Flag Count (0.000000)\n",
      "72. feature 55: Fwd Byts/b Avg (0.000000)\n",
      "73. feature 56: Fwd Pkts/b Avg (0.000000)\n",
      "74. feature 57: Fwd Blk Rate Avg (0.000000)\n",
      "75. feature 58: Bwd Byts/b Avg (0.000000)\n",
      "76. feature 59: Bwd Pkts/b Avg (0.000000)\n",
      "77. feature 60: Bwd Blk Rate Avg (0.000000)\n",
      "78. feature 0: Timestamp (0.000000)\n"
     ]
    }
   ],
   "source": [
    "# Print the feature ranking\n",
    "print(\"Feature ranking:\")\n",
    "\n",
    "for f in range(X_train.shape[1]):\n",
    "    print(\"%d. feature %d: %s (%f)\" % (f + 1, indices[f], X_train.columns[indices[f]], importances[indices[f]]))"
   ]
  },
  {
   "cell_type": "code",
   "execution_count": 91,
   "metadata": {},
   "outputs": [
    {
     "data": {
      "image/png": "[encoded data removed]",
      "text/plain": [
       "<Figure size 432x288 with 1 Axes>"
      ]
     },
     "metadata": {
      "needs_background": "light"
     },
     "output_type": "display_data"
    }
   ],
   "source": [
    "# Plot the top x feature importances of the forest\n",
    "top_x = 15\n",
    "\n",
    "plt.figure()\n",
    "# plt.title(\"Feature Importances\")\n",
    "plt.bar(range(X_train.shape[1]), importances[indices],\n",
    "       color=\"r\", yerr=std[indices], align=\"center\")\n",
    "plt.xticks(range(top_x), indices)\n",
    "plt.xlim([-1, top_x])\n",
    "plt.show()"
   ]
  },
  {
   "cell_type": "code",
   "execution_count": 116,
   "metadata": {},
   "outputs": [
    {
     "data": {
      "image/png": "[encoded data removed]",
      "text/plain": [
       "<Figure size 432x288 with 1 Axes>"
      ]
     },
     "metadata": {
      "needs_background": "light"
     },
     "output_type": "display_data"
    }
   ],
   "source": [
    "plt = pd.Series(forest.feature_importances_, index=X_train.columns).nlargest(top_x).plot(kind='barh')\n",
    "fig = plt.get_figure()\n",
    "fig.savefig('figure.jpg', bbox_inches = \"tight\")"
   ]
  },
  {
   "cell_type": "code",
   "execution_count": 169,
   "metadata": {},
   "outputs": [
    {
     "data": {
      "text/plain": [
       "array([0.00000000e+00, 1.77531084e-02, 8.26978006e-03, 1.35481683e-02,\n",
       "       3.90098818e-02, 4.58018504e-03, 4.25642612e-02, 7.30067210e-06,\n",
       "       7.28561812e-02, 1.60425998e-01, 2.62434368e-02, 5.47349371e-06,\n",
       "       2.36912566e-02, 2.43018003e-02, 1.31416082e-04, 6.14946509e-03,\n",
       "       1.66469728e-02, 1.96355383e-02, 1.00257213e-02, 8.31872149e-04,\n",
       "       1.50853961e-02, 1.44051772e-02, 1.47956565e-02, 2.07152945e-02,\n",
       "       1.56834466e-04, 4.51513012e-04, 1.43179374e-03, 1.20865772e-03,\n",
       "       8.84441391e-04, 5.34347708e-04, 1.09301068e-05, 0.00000000e+00,\n",
       "       0.00000000e+00, 0.00000000e+00, 1.01532199e-03, 6.57869419e-04,\n",
       "       4.74373772e-03, 3.20608021e-03, 3.34228263e-06, 3.01428114e-02,\n",
       "       1.20506169e-02, 1.01833622e-01, 3.81262362e-02, 2.67894423e-04,\n",
       "       1.00497076e-05, 1.15085608e-06, 2.16366847e-02, 2.09291493e-02,\n",
       "       4.02431411e-03, 0.00000000e+00, 9.21450499e-07, 4.56740837e-03,\n",
       "       2.32204267e-02, 9.33921382e-02, 1.80192341e-02, 0.00000000e+00,\n",
       "       0.00000000e+00, 0.00000000e+00, 0.00000000e+00, 0.00000000e+00,\n",
       "       0.00000000e+00, 3.77909177e-03, 1.65961174e-02, 3.46138839e-03,\n",
       "       4.55167093e-03, 1.64604306e-02, 1.34664933e-02, 4.11004809e-03,\n",
       "       9.38986993e-04, 9.69798002e-06, 8.66449546e-07, 1.65294770e-05,\n",
       "       6.21636649e-06, 1.45906512e-03, 6.58081773e-07, 6.46322277e-04,\n",
       "       2.89546864e-04])"
      ]
     },
     "execution_count": 169,
     "metadata": {},
     "output_type": "execute_result"
    }
   ],
   "source": [
    "forest.feature_importances_"
   ]
  },
  {
   "cell_type": "code",
   "execution_count": 171,
   "metadata": {},
   "outputs": [
    {
     "data": {
      "text/plain": [
       "Index(['Timestamp', 'Flow Duration', 'Tot Fwd Pkts', 'Tot Bwd Pkts',\n",
       "       'TotLen Fwd Pkts', 'TotLen Bwd Pkts', 'Fwd Pkt Len Max',\n",
       "       'Fwd Pkt Len Min', 'Fwd Pkt Len Mean', 'Fwd Pkt Len Std',\n",
       "       'Bwd Pkt Len Max', 'Bwd Pkt Len Min', 'Bwd Pkt Len Mean',\n",
       "       'Bwd Pkt Len Std', 'Flow Byts/s', 'Flow Pkts/s', 'Flow IAT Mean',\n",
       "       'Flow IAT Std', 'Flow IAT Max', 'Flow IAT Min', 'Fwd IAT Tot',\n",
       "       'Fwd IAT Mean', 'Fwd IAT Std', 'Fwd IAT Max', 'Fwd IAT Min',\n",
       "       'Bwd IAT Tot', 'Bwd IAT Mean', 'Bwd IAT Std', 'Bwd IAT Max',\n",
       "       'Bwd IAT Min', 'Fwd PSH Flags', 'Bwd PSH Flags', 'Fwd URG Flags',\n",
       "       'Bwd URG Flags', 'Fwd Header Len', 'Bwd Header Len', 'Fwd Pkts/s',\n",
       "       'Bwd Pkts/s', 'Pkt Len Min', 'Pkt Len Max', 'Pkt Len Mean',\n",
       "       'Pkt Len Std', 'Pkt Len Var', 'FIN Flag Cnt', 'SYN Flag Cnt',\n",
       "       'RST Flag Cnt', 'PSH Flag Cnt', 'ACK Flag Cnt', 'URG Flag Cnt',\n",
       "       'CWE Flag Count', 'ECE Flag Cnt', 'Down/Up Ratio', 'Pkt Size Avg',\n",
       "       'Fwd Seg Size Avg', 'Bwd Seg Size Avg', 'Fwd Byts/b Avg',\n",
       "       'Fwd Pkts/b Avg', 'Fwd Blk Rate Avg', 'Bwd Byts/b Avg',\n",
       "       'Bwd Pkts/b Avg', 'Bwd Blk Rate Avg', 'Subflow Fwd Pkts',\n",
       "       'Subflow Fwd Byts', 'Subflow Bwd Pkts', 'Subflow Bwd Byts',\n",
       "       'Init Fwd Win Byts', 'Init Bwd Win Byts', 'Fwd Act Data Pkts',\n",
       "       'Fwd Seg Size Min', 'Active Mean', 'Active Std', 'Active Max',\n",
       "       'Active Min', 'Idle Mean', 'Idle Std', 'Idle Max', 'Idle Min'],\n",
       "      dtype='object')"
      ]
     },
     "execution_count": 171,
     "metadata": {},
     "output_type": "execute_result"
    }
   ],
   "source": [
    "X_train.columns"
   ]
  },
  {
   "cell_type": "code",
   "execution_count": null,
   "metadata": {},
   "outputs": [],
   "source": []
  },
  {
   "cell_type": "code",
   "execution_count": null,
   "metadata": {},
   "outputs": [],
   "source": []
  },
  {
   "cell_type": "code",
   "execution_count": 50,
   "metadata": {},
   "outputs": [
    {
     "name": "stdout",
     "output_type": "stream",
     "text": [
      "Fwd Seg Size Min:0.255476|Init Fwd Win Byts:0.109916|CountOfOtherBiFlowsAtThisTimestamp:0.075679|Bwd IAT Mean:0.024783|Fwd IAT Min:0.024435|Bwd IAT Max:0.021328|Pkt Len Max:0.021287|Bwd Pkt Len Max:0.021012|Flow IAT Min:0.018858|ACK Flag Cnt:0.018694|Fwd IAT Max:0.018223|Bwd Pkt Len Std:0.017492|Fwd IAT Mean:0.017261|Flow IAT Mean:0.016852|Flow IAT Std:0.016624|PSH Flag Cnt:0.016086|Flow Duration:0.015931|Idle Mean:0.015561|Idle Max:0.015188|Fwd IAT Tot:0.015135|Idle Min:0.013750|Init Bwd Win Byts:0.013706|Flow IAT Max:0.013150|Bwd IAT Min:0.012995|Fwd Header Len:0.011957|Bwd Pkt Len Mean:0.011104|Bwd IAT Tot:0.010600|Bwd IAT Std:0.010211|Pkt Len Std:0.009469|Bwd Seg Size Avg:0.009411|Fwd Pkts/s:0.008303|Pkt Len Var:0.007973|Flow Pkts/s:0.006211|Tot Fwd Pkts:0.006194|Pkt Size Avg:0.005819|Fwd IAT Std:0.005785|Fwd Act Data Pkts:0.005384|Fwd Pkt Len Std:0.005244|Tot Bwd Pkts:0.005099|Bwd Pkts/s:0.005099|Fwd Pkt Len Max:0.004558|Fwd Seg Size Avg:0.004550|Pkt Len Mean:0.004488|Subflow Bwd Pkts:0.004318|Subflow Fwd Pkts:0.003933|Idle Std:0.003381|Bwd Header Len:0.003068|RST Flag Cnt:0.002765|SYN Flag Cnt:0.002672|Active Mean:0.002561|Fwd PSH Flags:0.002547|ECE Flag Cnt:0.002529|Active Min:0.002485|Down/Up Ratio:0.002331|Fwd Pkt Len Mean:0.002206|URG Flag Cnt:0.002069|Subflow Bwd Byts:0.002046|TotLen Fwd Pkts:0.001907|Flow Byts/s:0.001817|Fwd Pkt Len Min:0.001775|TotLen Bwd Pkts:0.001763|Bwd Pkt Len Min:0.001762|Active Max:0.001701|Pkt Len Min:0.001364|Subflow Fwd Byts:0.001353|Active Std:0.000661|FIN Flag Cnt:0.000102|Bwd PSH Flags:0.000000|Fwd URG Flags:0.000000|Bwd URG Flags:0.000000|CWE Flag Count:0.000000|Fwd Byts/b Avg:0.000000|Fwd Pkts/b Avg:0.000000|Fwd Blk Rate Avg:0.000000|Bwd Byts/b Avg:0.000000|Bwd Pkts/b Avg:0.000000|Bwd Blk Rate Avg:0.000000|Timestamp:0.000000|\n"
     ]
    }
   ],
   "source": [
    "# for comparison\n",
    "\n",
    "str_friday = \"\"\n",
    "for f in range(X_train.shape[1]):\n",
    "    str_friday = str_friday + \"%s:%f|\" % (X_train.columns[indices[f]], importances[indices[f]])\n",
    "print(str_friday)"
   ]
  },
  {
   "cell_type": "code",
   "execution_count": 37,
   "metadata": {},
   "outputs": [
    {
     "name": "stdout",
     "output_type": "stream",
     "text": [
      "Init Fwd Win Byts:0.061539|Fwd Pkts/s:0.060097|Flow Pkts/s:0.059386|Flow Duration:0.056493|Bwd Pkts/s:0.055804|Flow IAT Min:0.052922|Flow IAT Max:0.051991|Flow IAT Mean:0.050521|Flow Byts/s:0.042400|Fwd Seg Size Min:0.028181|Flow IAT Std:0.026345|Fwd IAT Min:0.025869|Fwd IAT Mean:0.024724|Fwd IAT Max:0.024601|Fwd IAT Tot:0.023972|Fwd IAT Std:0.020125|PSH Flag Cnt:0.017975|Init Bwd Win Byts:0.016564|Bwd IAT Min:0.015904|Bwd IAT Mean:0.015299|Bwd IAT Max:0.014808|Bwd IAT Tot:0.014600|Down/Up Ratio:0.012596|Bwd IAT Std:0.012541|Fwd Pkt Len Max:0.010109|Fwd Pkt Len Mean:0.009687|Fwd Seg Size Avg:0.009214|Fwd Pkt Len Std:0.008614|Pkt Len Mean:0.007190|Pkt Size Avg:0.006791|Fwd Header Len:0.006710|Bwd Seg Size Avg:0.006588|Pkt Len Std:0.006541|TotLen Fwd Pkts:0.006460|Subflow Fwd Pkts:0.006428|Bwd Pkt Len Mean:0.006416|Tot Fwd Pkts:0.006221|Pkt Len Max:0.005986|Pkt Len Var:0.005960|Subflow Fwd Byts:0.005959|TotLen Bwd Pkts:0.005474|Idle Min:0.005473|Idle Std:0.005426|ACK Flag Cnt:0.005422|Active Min:0.005330|Bwd Pkt Len Max:0.005252|Active Mean:0.005152|Active Max:0.005043|Bwd Pkt Len Std:0.004930|Subflow Bwd Byts:0.004921|Idle Mean:0.004787|Idle Max:0.004061|Bwd Header Len:0.003935|Bwd Pkt Len Min:0.003602|ECE Flag Cnt:0.003501|Active Std:0.003264|Fwd Act Data Pkts:0.003184|Subflow Bwd Pkts:0.003051|Tot Bwd Pkts:0.003019|Fwd Pkt Len Min:0.002935|RST Flag Cnt:0.002640|Pkt Len Min:0.002545|Fwd URG Flags:0.002328|CWE Flag Count:0.001774|URG Flag Cnt:0.001196|Fwd PSH Flags:0.000730|SYN Flag Cnt:0.000645|FIN Flag Cnt:0.000249|Bwd PSH Flags:0.000000|Bwd URG Flags:0.000000|Fwd Byts/b Avg:0.000000|Fwd Pkts/b Avg:0.000000|Fwd Blk Rate Avg:0.000000|Bwd Byts/b Avg:0.000000|Bwd Pkts/b Avg:0.000000|Bwd Blk Rate Avg:0.000000|Timestamp:0.000000|\n"
     ]
    }
   ],
   "source": [
    "str_thursday = \"\"\n",
    "for f in range(X_train.shape[1]):\n",
    "    str_thursday = str_thursday + \"%s:%f|\" % (X_train.columns[indices[f]], importances[indices[f]])\n",
    "print(str_thursday)"
   ]
  },
  {
   "cell_type": "code",
   "execution_count": 53,
   "metadata": {},
   "outputs": [
    {
     "name": "stdout",
     "output_type": "stream",
     "text": [
      "Flow IAT Max:0.067092|Flow Pkts/s:0.057136|Flow Duration:0.056627|Fwd Pkts/s:0.056345|Flow IAT Min:0.055758|Flow IAT Mean:0.053673|Init Fwd Win Byts:0.051534|Bwd Pkts/s:0.050122|Flow Byts/s:0.047633|Fwd IAT Tot:0.038297|Fwd IAT Max:0.035752|Bwd IAT Tot:0.031661|Flow IAT Std:0.028990|Fwd IAT Min:0.027246|Bwd IAT Max:0.026499|Fwd IAT Mean:0.025875|Fwd IAT Std:0.023353|Idle Max:0.018686|Bwd IAT Mean:0.015672|Bwd IAT Min:0.015092|Bwd IAT Std:0.014375|Idle Mean:0.013183|Init Bwd Win Byts:0.012746|Idle Min:0.011580|Active Min:0.007845|Active Max:0.007686|Active Mean:0.007610|Pkt Len Std:0.007555|Pkt Len Mean:0.006938|Pkt Size Avg:0.006935|Idle Std:0.006855|Pkt Len Var:0.006731|Fwd Pkt Len Mean:0.006169|Fwd Seg Size Avg:0.006088|Bwd Seg Size Avg:0.005966|Fwd Pkt Len Max:0.005961|Bwd Pkt Len Mean:0.005925|TotLen Fwd Pkts:0.005721|Subflow Fwd Byts:0.005655|Subflow Bwd Byts:0.005496|TotLen Bwd Pkts:0.005490|Active Std:0.004307|Fwd Pkt Len Std:0.004264|Pkt Len Max:0.004026|Bwd Pkt Len Std:0.003943|Bwd Pkt Len Max:0.003732|Fwd Header Len:0.003303|Bwd Header Len:0.003076|Subflow Fwd Pkts:0.002700|Tot Fwd Pkts:0.002631|Bwd Pkt Len Min:0.002417|Tot Bwd Pkts:0.002375|Subflow Bwd Pkts:0.002283|Pkt Len Min:0.002181|PSH Flag Cnt:0.002153|Fwd Pkt Len Min:0.002092|Down/Up Ratio:0.002071|Fwd Act Data Pkts:0.001678|Fwd Seg Size Min:0.001451|RST Flag Cnt:0.000835|ECE Flag Cnt:0.000810|ACK Flag Cnt:0.000765|URG Flag Cnt:0.000378|Fwd URG Flags:0.000270|CWE Flag Count:0.000230|SYN Flag Cnt:0.000193|Fwd PSH Flags:0.000186|FIN Flag Cnt:0.000100|Fwd Byts/b Avg:0.000000|Fwd Pkts/b Avg:0.000000|Bwd PSH Flags:0.000000|Fwd Blk Rate Avg:0.000000|Bwd Byts/b Avg:0.000000|Bwd Pkts/b Avg:0.000000|Bwd Blk Rate Avg:0.000000|Bwd URG Flags:0.000000|Timestamp:0.000000|\n"
     ]
    }
   ],
   "source": [
    "str_wednesday = \"\"\n",
    "for f in range(X_train.shape[1]):\n",
    "    str_wednesday = str_wednesday + \"%s:%f|\" % (X_train.columns[indices[f]], importances[indices[f]])\n",
    "print(str_wednesday)"
   ]
  },
  {
   "cell_type": "code",
   "execution_count": 53,
   "metadata": {},
   "outputs": [],
   "source": [
    "l_fri = str_friday.split(\"|\")\n",
    "#l_thur = str_thursday.split(\"|\")\n",
    "#l_wed = str_wednesday.split(\"|\")"
   ]
  },
  {
   "cell_type": "code",
   "execution_count": 57,
   "metadata": {},
   "outputs": [
    {
     "name": "stdout",
     "output_type": "stream",
     "text": [
      "['Fwd Pkt Len Std:0.169705', 'Fwd Seg Size Avg:0.104993', 'Pkt Len Std:0.093775', 'Fwd Pkt Len Mean:0.068130', 'Fwd Pkt Len Max:0.047931', 'Pkt Len Var:0.037537', 'Bwd Pkt Len Max:0.034938', 'TotLen Fwd Pkts:0.032243', 'Pkt Size Avg:0.028804', 'Pkt Len Max:0.026093', 'Bwd Seg Size Avg:0.024500', 'Bwd Pkt Len Std:0.024202', 'Bwd Pkt Len Mean:0.024041', 'PSH Flag Cnt:0.022592', 'Fwd IAT Max:0.020447', 'Flow IAT Std:0.019717', 'ACK Flag Cnt:0.017972', 'Flow IAT Mean:0.016944', 'Subflow Fwd Byts:0.016788', 'Init Fwd Win Byts:0.015930', 'Fwd IAT Std:0.014409', 'Flow Duration:0.013554', 'Tot Bwd Pkts:0.013419', 'Init Bwd Win Byts:0.013109', 'Pkt Len Mean:0.011986', 'Fwd IAT Tot:0.011015', 'Fwd IAT Mean:0.010343', 'Tot Fwd Pkts:0.008099', 'Flow IAT Max:0.008076', 'Flow Pkts/s:0.006377', 'Fwd Pkts/s:0.005443', 'Down/Up Ratio:0.004960', 'TotLen Bwd Pkts:0.004562', 'URG Flag Cnt:0.004517', 'Subflow Fwd Pkts:0.003970', 'Subflow Bwd Pkts:0.003591', 'Bwd Pkts/s:0.003246', 'Idle Mean:0.001705', 'Bwd IAT Mean:0.001244', 'Bwd IAT Max:0.001164', 'Bwd IAT Std:0.001137', 'Bwd IAT Min:0.000873', 'Fwd Header Len:0.000860', 'Fwd Seg Size Min:0.000804', 'Idle Min:0.000784', 'Subflow Bwd Byts:0.000679', 'Idle Max:0.000679', 'Bwd IAT Tot:0.000580', 'Bwd Header Len:0.000561', 'FIN Flag Cnt:0.000386', 'Fwd Act Data Pkts:0.000211', 'Flow Byts/s:0.000143', 'Fwd IAT Min:0.000078', 'Flow IAT Min:0.000075', 'Active Max:0.000016', 'Fwd PSH Flags:0.000014', 'SYN Flag Cnt:0.000011', 'Active Min:0.000010', 'Active Mean:0.000009', 'Fwd Pkt Len Min:0.000006', 'Bwd Pkt Len Min:0.000006', 'Pkt Len Min:0.000003', 'RST Flag Cnt:0.000002', 'ECE Flag Cnt:0.000002', 'Active Std:0.000001', 'Idle Std:0.000000', 'Bwd PSH Flags:0.000000', 'Fwd URG Flags:0.000000', 'Bwd URG Flags:0.000000', 'CWE Flag Count:0.000000', 'Fwd Byts/b Avg:0.000000', 'Fwd Pkts/b Avg:0.000000', 'Fwd Blk Rate Avg:0.000000', 'Bwd Byts/b Avg:0.000000', 'Bwd Pkts/b Avg:0.000000', 'Bwd Blk Rate Avg:0.000000', 'Timestamp:0.000000', '']\n",
      "['Init Fwd Win Byts:0.061539', 'Fwd Pkts/s:0.060097', 'Flow Pkts/s:0.059386', 'Flow Duration:0.056493', 'Bwd Pkts/s:0.055804', 'Flow IAT Min:0.052922', 'Flow IAT Max:0.051991', 'Flow IAT Mean:0.050521', 'Flow Byts/s:0.042400', 'Fwd Seg Size Min:0.028181', 'Flow IAT Std:0.026345', 'Fwd IAT Min:0.025869', 'Fwd IAT Mean:0.024724', 'Fwd IAT Max:0.024601', 'Fwd IAT Tot:0.023972', 'Fwd IAT Std:0.020125', 'PSH Flag Cnt:0.017975', 'Init Bwd Win Byts:0.016564', 'Bwd IAT Min:0.015904', 'Bwd IAT Mean:0.015299', 'Bwd IAT Max:0.014808', 'Bwd IAT Tot:0.014600', 'Down/Up Ratio:0.012596', 'Bwd IAT Std:0.012541', 'Fwd Pkt Len Max:0.010109', 'Fwd Pkt Len Mean:0.009687', 'Fwd Seg Size Avg:0.009214', 'Fwd Pkt Len Std:0.008614', 'Pkt Len Mean:0.007190', 'Pkt Size Avg:0.006791', 'Fwd Header Len:0.006710', 'Bwd Seg Size Avg:0.006588', 'Pkt Len Std:0.006541', 'TotLen Fwd Pkts:0.006460', 'Subflow Fwd Pkts:0.006428', 'Bwd Pkt Len Mean:0.006416', 'Tot Fwd Pkts:0.006221', 'Pkt Len Max:0.005986', 'Pkt Len Var:0.005960', 'Subflow Fwd Byts:0.005959', 'TotLen Bwd Pkts:0.005474', 'Idle Min:0.005473', 'Idle Std:0.005426', 'ACK Flag Cnt:0.005422', 'Active Min:0.005330', 'Bwd Pkt Len Max:0.005252', 'Active Mean:0.005152', 'Active Max:0.005043', 'Bwd Pkt Len Std:0.004930', 'Subflow Bwd Byts:0.004921', 'Idle Mean:0.004787', 'Idle Max:0.004061', 'Bwd Header Len:0.003935', 'Bwd Pkt Len Min:0.003602', 'ECE Flag Cnt:0.003501', 'Active Std:0.003264', 'Fwd Act Data Pkts:0.003184', 'Subflow Bwd Pkts:0.003051', 'Tot Bwd Pkts:0.003019', 'Fwd Pkt Len Min:0.002935', 'RST Flag Cnt:0.002640', 'Pkt Len Min:0.002545', 'Fwd URG Flags:0.002328', 'CWE Flag Count:0.001774', 'URG Flag Cnt:0.001196', 'Fwd PSH Flags:0.000730', 'SYN Flag Cnt:0.000645', 'FIN Flag Cnt:0.000249', 'Bwd PSH Flags:0.000000', 'Bwd URG Flags:0.000000', 'Fwd Byts/b Avg:0.000000', 'Fwd Pkts/b Avg:0.000000', 'Fwd Blk Rate Avg:0.000000', 'Bwd Byts/b Avg:0.000000', 'Bwd Pkts/b Avg:0.000000', 'Bwd Blk Rate Avg:0.000000', 'Timestamp:0.000000', '']\n",
      "['Flow IAT Max:0.067092', 'Flow Pkts/s:0.057136', 'Flow Duration:0.056627', 'Fwd Pkts/s:0.056345', 'Flow IAT Min:0.055758', 'Flow IAT Mean:0.053673', 'Init Fwd Win Byts:0.051534', 'Bwd Pkts/s:0.050122', 'Flow Byts/s:0.047633', 'Fwd IAT Tot:0.038297', 'Fwd IAT Max:0.035752', 'Bwd IAT Tot:0.031661', 'Flow IAT Std:0.028990', 'Fwd IAT Min:0.027246', 'Bwd IAT Max:0.026499', 'Fwd IAT Mean:0.025875', 'Fwd IAT Std:0.023353', 'Idle Max:0.018686', 'Bwd IAT Mean:0.015672', 'Bwd IAT Min:0.015092', 'Bwd IAT Std:0.014375', 'Idle Mean:0.013183', 'Init Bwd Win Byts:0.012746', 'Idle Min:0.011580', 'Active Min:0.007845', 'Active Max:0.007686', 'Active Mean:0.007610', 'Pkt Len Std:0.007555', 'Pkt Len Mean:0.006938', 'Pkt Size Avg:0.006935', 'Idle Std:0.006855', 'Pkt Len Var:0.006731', 'Fwd Pkt Len Mean:0.006169', 'Fwd Seg Size Avg:0.006088', 'Bwd Seg Size Avg:0.005966', 'Fwd Pkt Len Max:0.005961', 'Bwd Pkt Len Mean:0.005925', 'TotLen Fwd Pkts:0.005721', 'Subflow Fwd Byts:0.005655', 'Subflow Bwd Byts:0.005496', 'TotLen Bwd Pkts:0.005490', 'Active Std:0.004307', 'Fwd Pkt Len Std:0.004264', 'Pkt Len Max:0.004026', 'Bwd Pkt Len Std:0.003943', 'Bwd Pkt Len Max:0.003732', 'Fwd Header Len:0.003303', 'Bwd Header Len:0.003076', 'Subflow Fwd Pkts:0.002700', 'Tot Fwd Pkts:0.002631', 'Bwd Pkt Len Min:0.002417', 'Tot Bwd Pkts:0.002375', 'Subflow Bwd Pkts:0.002283', 'Pkt Len Min:0.002181', 'PSH Flag Cnt:0.002153', 'Fwd Pkt Len Min:0.002092', 'Down/Up Ratio:0.002071', 'Fwd Act Data Pkts:0.001678', 'Fwd Seg Size Min:0.001451', 'RST Flag Cnt:0.000835', 'ECE Flag Cnt:0.000810', 'ACK Flag Cnt:0.000765', 'URG Flag Cnt:0.000378', 'Fwd URG Flags:0.000270', 'CWE Flag Count:0.000230', 'SYN Flag Cnt:0.000193', 'Fwd PSH Flags:0.000186', 'FIN Flag Cnt:0.000100', 'Fwd Byts/b Avg:0.000000', 'Fwd Pkts/b Avg:0.000000', 'Bwd PSH Flags:0.000000', 'Fwd Blk Rate Avg:0.000000', 'Bwd Byts/b Avg:0.000000', 'Bwd Pkts/b Avg:0.000000', 'Bwd Blk Rate Avg:0.000000', 'Bwd URG Flags:0.000000', 'Timestamp:0.000000', '']\n"
     ]
    }
   ],
   "source": [
    "print(l_fri)\n",
    "print(l_thur)\n",
    "print(l_wed)"
   ]
  },
  {
   "cell_type": "code",
   "execution_count": 54,
   "metadata": {},
   "outputs": [],
   "source": [
    "import re"
   ]
  },
  {
   "cell_type": "code",
   "execution_count": 55,
   "metadata": {},
   "outputs": [
    {
     "name": "stdout",
     "output_type": "stream",
     "text": [
      "dict_keys(['Fwd Seg Size Min', 'Init Fwd Win Byts', 'CountOfOtherBiFlowsAtThisTimestamp', 'Bwd IAT Mean', 'Fwd IAT Min', 'Bwd IAT Max', 'Pkt Len Max', 'Bwd Pkt Len Max', 'Flow IAT Min', 'ACK Flag Cnt', 'Fwd IAT Max', 'Bwd Pkt Len Std', 'Fwd IAT Mean', 'Flow IAT Mean', 'Flow IAT Std', 'PSH Flag Cnt', 'Flow Duration', 'Idle Mean', 'Idle Max', 'Fwd IAT Tot', 'Idle Min', 'Init Bwd Win Byts', 'Flow IAT Max', 'Bwd IAT Min', 'Fwd Header Len', 'Bwd Pkt Len Mean', 'Bwd IAT Tot', 'Bwd IAT Std', 'Pkt Len Std', 'Bwd Seg Size Avg', 'Fwd Pkts/s', 'Pkt Len Var', 'Flow Pkts/s', 'Tot Fwd Pkts', 'Pkt Size Avg', 'Fwd IAT Std', 'Fwd Act Data Pkts', 'Fwd Pkt Len Std', 'Tot Bwd Pkts', 'Bwd Pkts/s', 'Fwd Pkt Len Max', 'Fwd Seg Size Avg', 'Pkt Len Mean', 'Subflow Bwd Pkts', 'Subflow Fwd Pkts', 'Idle Std', 'Bwd Header Len', 'RST Flag Cnt', 'SYN Flag Cnt', 'Active Mean', 'Fwd PSH Flags', 'ECE Flag Cnt', 'Active Min', 'Down/Up Ratio', 'Fwd Pkt Len Mean', 'URG Flag Cnt', 'Subflow Bwd Byts', 'TotLen Fwd Pkts', 'Flow Byts/s', 'Fwd Pkt Len Min', 'TotLen Bwd Pkts', 'Bwd Pkt Len Min', 'Active Max', 'Pkt Len Min', 'Subflow Fwd Byts', 'Active Std', 'FIN Flag Cnt', 'Bwd PSH Flags', 'Fwd URG Flags', 'Bwd URG Flags', 'CWE Flag Count', 'Fwd Byts/b Avg', 'Fwd Pkts/b Avg', 'Fwd Blk Rate Avg', 'Bwd Byts/b Avg', 'Bwd Pkts/b Avg', 'Bwd Blk Rate Avg', 'Timestamp'])\n"
     ]
    }
   ],
   "source": [
    "d_fri = {}\n",
    "# d = {}\n",
    "# idx = int(l_fri[0].find(\":\"))\n",
    "# d[str(l_fri[0][:idx])] = float(l_fri[0][idx+1:])\n",
    "# print(d)\n",
    "for i in range(len(l_fri)-1):\n",
    "    idx = int(l_fri[i].find(\":\"))\n",
    "    d_fri[str(l_fri[i][:idx])] = float(l_fri[i][idx+1:])\n",
    "print(d_fri.keys())"
   ]
  },
  {
   "cell_type": "code",
   "execution_count": 145,
   "metadata": {},
   "outputs": [
    {
     "name": "stdout",
     "output_type": "stream",
     "text": [
      "dict_keys(['Init Fwd Win Byts', 'Fwd Pkts/s', 'Flow Pkts/s', 'Flow Duration', 'Bwd Pkts/s', 'Flow IAT Min', 'Flow IAT Max', 'Flow IAT Mean', 'Flow Byts/s', 'Fwd Seg Size Min', 'Flow IAT Std', 'Fwd IAT Min', 'Fwd IAT Mean', 'Fwd IAT Max', 'Fwd IAT Tot', 'Fwd IAT Std', 'PSH Flag Cnt', 'Init Bwd Win Byts', 'Bwd IAT Min', 'Bwd IAT Mean', 'Bwd IAT Max', 'Bwd IAT Tot', 'Down/Up Ratio', 'Bwd IAT Std', 'Fwd Pkt Len Max', 'Fwd Pkt Len Mean', 'Fwd Seg Size Avg', 'Fwd Pkt Len Std', 'Pkt Len Mean', 'Pkt Size Avg', 'Fwd Header Len', 'Bwd Seg Size Avg', 'Pkt Len Std', 'TotLen Fwd Pkts', 'Subflow Fwd Pkts', 'Bwd Pkt Len Mean', 'Tot Fwd Pkts', 'Pkt Len Max', 'Pkt Len Var', 'Subflow Fwd Byts', 'TotLen Bwd Pkts', 'Idle Min', 'Idle Std', 'ACK Flag Cnt', 'Active Min', 'Bwd Pkt Len Max', 'Active Mean', 'Active Max', 'Bwd Pkt Len Std', 'Subflow Bwd Byts', 'Idle Mean', 'Idle Max', 'Bwd Header Len', 'Bwd Pkt Len Min', 'ECE Flag Cnt', 'Active Std', 'Fwd Act Data Pkts', 'Subflow Bwd Pkts', 'Tot Bwd Pkts', 'Fwd Pkt Len Min', 'RST Flag Cnt', 'Pkt Len Min', 'Fwd URG Flags', 'CWE Flag Count', 'URG Flag Cnt', 'Fwd PSH Flags', 'SYN Flag Cnt', 'FIN Flag Cnt', 'Bwd PSH Flags', 'Bwd URG Flags', 'Fwd Byts/b Avg', 'Fwd Pkts/b Avg', 'Fwd Blk Rate Avg', 'Bwd Byts/b Avg', 'Bwd Pkts/b Avg', 'Bwd Blk Rate Avg', 'Timestamp'])\n"
     ]
    }
   ],
   "source": [
    "d_thur = {}\n",
    "for i in range(len(l_thur)-1):\n",
    "    idx = int(l_thur[i].find(\":\"))\n",
    "    d_thur[str(l_thur[i][:idx])] = float(l_thur[i][idx+1:])\n",
    "# print(d_thur)\n",
    "print(d_thur.keys())"
   ]
  },
  {
   "cell_type": "code",
   "execution_count": 113,
   "metadata": {},
   "outputs": [
    {
     "name": "stdout",
     "output_type": "stream",
     "text": [
      "{'Flow IAT Max': 0.067092, 'Flow Pkts/s': 0.057136, 'Flow Duration': 0.056627, 'Fwd Pkts/s': 0.056345, 'Flow IAT Min': 0.055758, 'Flow IAT Mean': 0.053673, 'Init Fwd Win Byts': 0.051534, 'Bwd Pkts/s': 0.050122, 'Flow Byts/s': 0.047633, 'Fwd IAT Tot': 0.038297, 'Fwd IAT Max': 0.035752, 'Bwd IAT Tot': 0.031661, 'Flow IAT Std': 0.02899, 'Fwd IAT Min': 0.027246, 'Bwd IAT Max': 0.026499, 'Fwd IAT Mean': 0.025875, 'Fwd IAT Std': 0.023353, 'Idle Max': 0.018686, 'Bwd IAT Mean': 0.015672, 'Bwd IAT Min': 0.015092, 'Bwd IAT Std': 0.014375, 'Idle Mean': 0.013183, 'Init Bwd Win Byts': 0.012746, 'Idle Min': 0.01158, 'Active Min': 0.007845, 'Active Max': 0.007686, 'Active Mean': 0.00761, 'Pkt Len Std': 0.007555, 'Pkt Len Mean': 0.006938, 'Pkt Size Avg': 0.006935, 'Idle Std': 0.006855, 'Pkt Len Var': 0.006731, 'Fwd Pkt Len Mean': 0.006169, 'Fwd Seg Size Avg': 0.006088, 'Bwd Seg Size Avg': 0.005966, 'Fwd Pkt Len Max': 0.005961, 'Bwd Pkt Len Mean': 0.005925, 'TotLen Fwd Pkts': 0.005721, 'Subflow Fwd Byts': 0.005655, 'Subflow Bwd Byts': 0.005496, 'TotLen Bwd Pkts': 0.00549, 'Active Std': 0.004307, 'Fwd Pkt Len Std': 0.004264, 'Pkt Len Max': 0.004026, 'Bwd Pkt Len Std': 0.003943, 'Bwd Pkt Len Max': 0.003732, 'Fwd Header Len': 0.003303, 'Bwd Header Len': 0.003076, 'Subflow Fwd Pkts': 0.0027, 'Tot Fwd Pkts': 0.002631, 'Bwd Pkt Len Min': 0.002417, 'Tot Bwd Pkts': 0.002375, 'Subflow Bwd Pkts': 0.002283, 'Pkt Len Min': 0.002181, 'PSH Flag Cnt': 0.002153, 'Fwd Pkt Len Min': 0.002092, 'Down/Up Ratio': 0.002071, 'Fwd Act Data Pkts': 0.001678, 'Fwd Seg Size Min': 0.001451, 'RST Flag Cnt': 0.000835, 'ECE Flag Cnt': 0.00081, 'ACK Flag Cnt': 0.000765, 'URG Flag Cnt': 0.000378, 'Fwd URG Flags': 0.00027, 'CWE Flag Count': 0.00023, 'SYN Flag Cnt': 0.000193, 'Fwd PSH Flags': 0.000186, 'FIN Flag Cnt': 0.0001, 'Fwd Byts/b Avg': 0.0, 'Fwd Pkts/b Avg': 0.0, 'Bwd PSH Flags': 0.0, 'Fwd Blk Rate Avg': 0.0, 'Bwd Byts/b Avg': 0.0, 'Bwd Pkts/b Avg': 0.0, 'Bwd Blk Rate Avg': 0.0, 'Bwd URG Flags': 0.0, 'Timestamp': 0.0}\n"
     ]
    }
   ],
   "source": [
    "d_wed = {}\n",
    "for i in range(len(l_wed)-1):\n",
    "    idx = int(l_wed[i].find(\":\"))\n",
    "    d_wed[str(l_wed[i][:idx])] = float(l_wed[i][idx+1:])\n",
    "print(d_wed)"
   ]
  },
  {
   "cell_type": "code",
   "execution_count": 114,
   "metadata": {},
   "outputs": [],
   "source": [
    "import collections, functools, operator "
   ]
  },
  {
   "cell_type": "code",
   "execution_count": 121,
   "metadata": {},
   "outputs": [
    {
     "name": "stdout",
     "output_type": "stream",
     "text": [
      "combined features :  {'Fwd Pkt Len Std': 0.343674, 'Fwd Seg Size Avg': 0.21607400000000002, 'Pkt Len Std': 0.195105, 'Fwd Pkt Len Mean': 0.142429, 'Fwd Pkt Len Max': 0.101823, 'Pkt Len Var': 0.081805, 'Bwd Pkt Len Max': 0.07360799999999999, 'TotLen Fwd Pkts': 0.070207, 'Pkt Size Avg': 0.064543, 'Pkt Len Max': 0.056212000000000005, 'Bwd Seg Size Avg': 0.054966, 'Bwd Pkt Len Std': 0.052347000000000005, 'Bwd Pkt Len Mean': 0.054007, 'PSH Flag Cnt': 0.047337000000000004, 'Fwd IAT Max': 0.07664599999999999, 'Flow IAT Std': 0.068424, 'ACK Flag Cnt': 0.036709, 'Flow IAT Mean': 0.087561, 'Subflow Fwd Byts': 0.039231, 'Init Fwd Win Byts': 0.083394, 'Fwd IAT Std': 0.052170999999999995, 'Flow Duration': 0.083735, 'Tot Bwd Pkts': 0.029213, 'Init Bwd Win Byts': 0.038964, 'Pkt Len Mean': 0.03091, 'Fwd IAT Tot': 0.060327, 'Fwd IAT Mean': 0.046561, 'Tot Fwd Pkts': 0.018829000000000002, 'Flow IAT Max': 0.083244, 'Flow Pkts/s': 0.06989, 'Fwd Pkts/s': 0.067231, 'Down/Up Ratio': 0.011991, 'TotLen Bwd Pkts': 0.014614, 'URG Flag Cnt': 0.009412, 'Subflow Fwd Pkts': 0.01064, 'Subflow Bwd Pkts': 0.009465, 'Bwd Pkts/s': 0.056614, 'Idle Mean': 0.016593, 'Bwd IAT Mean': 0.01816, 'Bwd IAT Max': 0.028827000000000002, 'Bwd IAT Std': 0.016649, 'Bwd IAT Min': 0.016838, 'Fwd Header Len': 0.005023, 'Fwd Seg Size Min': 0.003059, 'Idle Min': 0.013148, 'Subflow Bwd Byts': 0.006854, 'Idle Max': 0.020044000000000003, 'Bwd IAT Tot': 0.032821, 'Bwd Header Len': 0.004198, 'FIN Flag Cnt': 0.000872, 'Fwd Act Data Pkts': 0.0021, 'Flow Byts/s': 0.047919, 'Fwd IAT Min': 0.027402, 'Flow IAT Min': 0.055908, 'Active Max': 0.007718, 'Fwd PSH Flags': 0.000214, 'SYN Flag Cnt': 0.000215, 'Active Min': 0.007864999999999999, 'Active Mean': 0.007627999999999999, 'Fwd Pkt Len Min': 0.002104, 'Bwd Pkt Len Min': 0.0024289999999999997, 'Pkt Len Min': 0.002187, 'RST Flag Cnt': 0.000839, 'ECE Flag Cnt': 0.0008139999999999999, 'Active Std': 0.004309, 'Idle Std': 0.006855, 'Fwd URG Flags': 0.00027, 'CWE Flag Count': 0.00023}\n"
     ]
    }
   ],
   "source": [
    "list_dict = [d_fri, d_thur, d_wed]\n",
    "result = dict(functools.reduce(operator.add, \n",
    "         map(collections.Counter, list_dict))) \n",
    "  \n",
    "print(\"combined features : \", str(result)) "
   ]
  },
  {
   "cell_type": "code",
   "execution_count": 141,
   "metadata": {},
   "outputs": [
    {
     "name": "stdout",
     "output_type": "stream",
     "text": [
      "[('Fwd PSH Flags', 0.000214), ('SYN Flag Cnt', 0.000215), ('CWE Flag Count', 0.00023), ('Fwd URG Flags', 0.00027), ('ECE Flag Cnt', 0.0008139999999999999), ('RST Flag Cnt', 0.000839), ('FIN Flag Cnt', 0.000872), ('Fwd Act Data Pkts', 0.0021), ('Fwd Pkt Len Min', 0.002104), ('Pkt Len Min', 0.002187), ('Bwd Pkt Len Min', 0.0024289999999999997), ('Fwd Seg Size Min', 0.003059), ('Bwd Header Len', 0.004198), ('Active Std', 0.004309), ('Fwd Header Len', 0.005023), ('Subflow Bwd Byts', 0.006854), ('Idle Std', 0.006855), ('Active Mean', 0.007627999999999999), ('Active Max', 0.007718), ('Active Min', 0.007864999999999999), ('URG Flag Cnt', 0.009412), ('Subflow Bwd Pkts', 0.009465), ('Subflow Fwd Pkts', 0.01064), ('Down/Up Ratio', 0.011991), ('Idle Min', 0.013148), ('TotLen Bwd Pkts', 0.014614), ('Idle Mean', 0.016593), ('Bwd IAT Std', 0.016649), ('Bwd IAT Min', 0.016838), ('Bwd IAT Mean', 0.01816), ('Tot Fwd Pkts', 0.018829000000000002), ('Idle Max', 0.020044000000000003), ('Fwd IAT Min', 0.027402), ('Bwd IAT Max', 0.028827000000000002), ('Tot Bwd Pkts', 0.029213), ('Pkt Len Mean', 0.03091), ('Bwd IAT Tot', 0.032821), ('ACK Flag Cnt', 0.036709), ('Init Bwd Win Byts', 0.038964), ('Subflow Fwd Byts', 0.039231), ('Fwd IAT Mean', 0.046561), ('PSH Flag Cnt', 0.047337000000000004), ('Flow Byts/s', 0.047919), ('Fwd IAT Std', 0.052170999999999995), ('Bwd Pkt Len Std', 0.052347000000000005), ('Bwd Pkt Len Mean', 0.054007), ('Bwd Seg Size Avg', 0.054966), ('Flow IAT Min', 0.055908), ('Pkt Len Max', 0.056212000000000005), ('Bwd Pkts/s', 0.056614), ('Fwd IAT Tot', 0.060327), ('Pkt Size Avg', 0.064543), ('Fwd Pkts/s', 0.067231), ('Flow IAT Std', 0.068424), ('Flow Pkts/s', 0.06989), ('TotLen Fwd Pkts', 0.070207), ('Bwd Pkt Len Max', 0.07360799999999999), ('Fwd IAT Max', 0.07664599999999999), ('Pkt Len Var', 0.081805), ('Flow IAT Max', 0.083244), ('Init Fwd Win Byts', 0.083394), ('Flow Duration', 0.083735), ('Flow IAT Mean', 0.087561), ('Fwd Pkt Len Max', 0.101823), ('Fwd Pkt Len Mean', 0.142429), ('Pkt Len Std', 0.195105), ('Fwd Seg Size Avg', 0.21607400000000002), ('Fwd Pkt Len Std', 0.343674)]\n"
     ]
    }
   ],
   "source": [
    "sorted_dict = sorted(result.items(), key = lambda kv:(kv[1], kv[0]))\n",
    "print(sorted_dict)"
   ]
  },
  {
   "cell_type": "code",
   "execution_count": 142,
   "metadata": {},
   "outputs": [
    {
     "name": "stdout",
     "output_type": "stream",
     "text": [
      "\"Fwd PSH Flags\",\n",
      "\"SYN Flag Cnt\",\n",
      "\"CWE Flag Count\",\n",
      "\"Fwd URG Flags\",\n",
      "\"ECE Flag Cnt\",\n",
      "\"RST Flag Cnt\",\n",
      "\"FIN Flag Cnt\",\n",
      "\"Fwd Act Data Pkts\",\n",
      "\"Fwd Pkt Len Min\",\n",
      "\"Pkt Len Min\",\n",
      "\"Bwd Pkt Len Min\",\n",
      "\"Fwd Seg Size Min\",\n",
      "\"Bwd Header Len\",\n",
      "\"Active Std\",\n",
      "\"Fwd Header Len\",\n",
      "\"Subflow Bwd Byts\",\n",
      "\"Idle Std\",\n",
      "\"Active Mean\",\n",
      "\"Active Max\",\n",
      "\"Active Min\",\n",
      "\"URG Flag Cnt\",\n",
      "\"Subflow Bwd Pkts\",\n",
      "\"Subflow Fwd Pkts\",\n",
      "\"Down/Up Ratio\",\n",
      "\"Idle Min\",\n",
      "\"TotLen Bwd Pkts\",\n",
      "\"Idle Mean\",\n",
      "\"Bwd IAT Std\",\n",
      "\"Bwd IAT Min\",\n",
      "\"Bwd IAT Mean\",\n",
      "\"Tot Fwd Pkts\",\n",
      "\"Idle Max\",\n",
      "\"Fwd IAT Min\",\n",
      "\"Bwd IAT Max\",\n",
      "\"Tot Bwd Pkts\",\n",
      "\"Pkt Len Mean\",\n",
      "\"Bwd IAT Tot\",\n",
      "\"ACK Flag Cnt\",\n",
      "\"Init Bwd Win Byts\",\n",
      "\"Subflow Fwd Byts\",\n",
      "\"Fwd IAT Mean\",\n",
      "\"PSH Flag Cnt\",\n",
      "\"Flow Byts/s\",\n",
      "\"Fwd IAT Std\",\n",
      "\"Bwd Pkt Len Std\",\n",
      "\"Bwd Pkt Len Mean\",\n",
      "\"Bwd Seg Size Avg\",\n",
      "\"Flow IAT Min\",\n",
      "\"Pkt Len Max\",\n",
      "\"Bwd Pkts/s\",\n",
      "\"Fwd IAT Tot\",\n",
      "\"Pkt Size Avg\",\n",
      "\"Fwd Pkts/s\",\n",
      "\"Flow IAT Std\",\n",
      "\"Flow Pkts/s\",\n",
      "\"TotLen Fwd Pkts\",\n",
      "\"Bwd Pkt Len Max\",\n",
      "\"Fwd IAT Max\",\n",
      "\"Pkt Len Var\",\n",
      "\"Flow IAT Max\",\n",
      "\"Init Fwd Win Byts\",\n",
      "\"Flow Duration\",\n",
      "\"Flow IAT Mean\",\n",
      "\"Fwd Pkt Len Max\",\n",
      "\"Fwd Pkt Len Mean\",\n",
      "\"Pkt Len Std\",\n",
      "\"Fwd Seg Size Avg\",\n",
      "\"Fwd Pkt Len Std\",\n"
     ]
    }
   ],
   "source": [
    "for i in range(len(sorted_dict)):\n",
    "    print('\"' + sorted_dict[i][0] + '\",')"
   ]
  },
  {
   "cell_type": "code",
   "execution_count": null,
   "metadata": {},
   "outputs": [],
   "source": []
  }
 ],
 "metadata": {
  "kernelspec": {
   "display_name": "Python 3",
   "language": "python",
   "name": "python3"
  },
  "language_info": {
   "codemirror_mode": {
    "name": "ipython",
    "version": 3
   },
   "file_extension": ".py",
   "mimetype": "text/x-python",
   "name": "python",
   "nbconvert_exporter": "python",
   "pygments_lexer": "ipython3",
   "version": "3.7.3"
  }
 },
 "nbformat": 4,
 "nbformat_minor": 4
}
